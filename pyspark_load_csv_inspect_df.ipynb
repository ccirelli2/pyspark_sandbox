{
 "cells": [
  {
   "cell_type": "markdown",
   "id": "76ac60ad",
   "metadata": {},
   "source": [
    "# Import Libraries"
   ]
  },
  {
   "cell_type": "code",
   "execution_count": 1,
   "id": "8d185ee3",
   "metadata": {},
   "outputs": [],
   "source": [
    "import os\n",
    "import pandas as pd\n",
    "import pyspark\n",
    "from pyspark import SparkContext, SparkConf\n",
    "from pyspark.sql import SparkSession"
   ]
  },
  {
   "cell_type": "markdown",
   "id": "40c66e15",
   "metadata": {},
   "source": [
    "### Directories"
   ]
  },
  {
   "cell_type": "code",
   "execution_count": 2,
   "id": "dcf08b86",
   "metadata": {},
   "outputs": [],
   "source": [
    "DIR_DATA = r'C:\\Users\\ccirelli\\OneDrive - American International Group, Inc\\Desktop\\GitHub\\pyspark_sandbox\\data'"
   ]
  },
  {
   "cell_type": "code",
   "execution_count": 3,
   "id": "e6a8e953",
   "metadata": {},
   "outputs": [],
   "source": [
    "FILENAME = 'test.csv'"
   ]
  },
  {
   "cell_type": "code",
   "execution_count": 4,
   "id": "e8343482",
   "metadata": {},
   "outputs": [],
   "source": [
    "df_pd = pd.read_csv(os.path.join(DIR_DATA, FILENAME))"
   ]
  },
  {
   "cell_type": "code",
   "execution_count": 5,
   "id": "e6641298",
   "metadata": {},
   "outputs": [
    {
     "data": {
      "text/html": [
       "<div>\n",
       "<style scoped>\n",
       "    .dataframe tbody tr th:only-of-type {\n",
       "        vertical-align: middle;\n",
       "    }\n",
       "\n",
       "    .dataframe tbody tr th {\n",
       "        vertical-align: top;\n",
       "    }\n",
       "\n",
       "    .dataframe thead th {\n",
       "        text-align: right;\n",
       "    }\n",
       "</style>\n",
       "<table border=\"1\" class=\"dataframe\">\n",
       "  <thead>\n",
       "    <tr style=\"text-align: right;\">\n",
       "      <th></th>\n",
       "      <th>ULTIMATE_BUSINESS_NAME_DB</th>\n",
       "      <th>ULTIMATE_DUNS_NUMBER_DB</th>\n",
       "      <th>DUNS_NUMBER_DB</th>\n",
       "      <th>INSURED_NAME_UW</th>\n",
       "      <th>BUSINESS_NAME_DB</th>\n",
       "      <th>POLICY_EFFECTIVE_DATE</th>\n",
       "      <th>POLICY_EXPIRATION_DATE</th>\n",
       "      <th>INSURANCE_LINE_OF_BUSINESS</th>\n",
       "      <th>DIVISIONDEPARTMENT</th>\n",
       "      <th>COVERAGE_TRIGGER</th>\n",
       "      <th>BUSINESS_TYPE</th>\n",
       "      <th>AGGREGATE_PRODUCT__AIG</th>\n",
       "    </tr>\n",
       "  </thead>\n",
       "  <tbody>\n",
       "    <tr>\n",
       "      <th>0</th>\n",
       "      <td>1-Stop Connections Pty Limited</td>\n",
       "      <td>750664455</td>\n",
       "      <td>750664455</td>\n",
       "      <td>1-STOP CONNECTIONS PTY LIMITED</td>\n",
       "      <td>1-STOP CONNECTIONS PTY LIMITED</td>\n",
       "      <td>6/13/2017</td>\n",
       "      <td>10/1/2018</td>\n",
       "      <td>Directors And Officers Liabilty</td>\n",
       "      <td>23-Financial Lines</td>\n",
       "      <td>Claims-made</td>\n",
       "      <td>Risk Transfer - Standard</td>\n",
       "      <td>Directors &amp; Officers Liability</td>\n",
       "    </tr>\n",
       "  </tbody>\n",
       "</table>\n",
       "</div>"
      ],
      "text/plain": [
       "        ULTIMATE_BUSINESS_NAME_DB  ULTIMATE_DUNS_NUMBER_DB  DUNS_NUMBER_DB  \\\n",
       "0  1-Stop Connections Pty Limited                750664455       750664455   \n",
       "\n",
       "                  INSURED_NAME_UW                BUSINESS_NAME_DB  \\\n",
       "0  1-STOP CONNECTIONS PTY LIMITED  1-STOP CONNECTIONS PTY LIMITED   \n",
       "\n",
       "  POLICY_EFFECTIVE_DATE POLICY_EXPIRATION_DATE  \\\n",
       "0             6/13/2017              10/1/2018   \n",
       "\n",
       "        INSURANCE_LINE_OF_BUSINESS  DIVISIONDEPARTMENT COVERAGE_TRIGGER  \\\n",
       "0  Directors And Officers Liabilty  23-Financial Lines      Claims-made   \n",
       "\n",
       "              BUSINESS_TYPE          AGGREGATE_PRODUCT__AIG  \n",
       "0  Risk Transfer - Standard  Directors & Officers Liability  "
      ]
     },
     "execution_count": 5,
     "metadata": {},
     "output_type": "execute_result"
    }
   ],
   "source": [
    "df_pd.head(1)"
   ]
  },
  {
   "cell_type": "markdown",
   "id": "90ffba0f",
   "metadata": {},
   "source": [
    "### Create Spark Context"
   ]
  },
  {
   "cell_type": "code",
   "execution_count": 6,
   "id": "e7792dc0",
   "metadata": {},
   "outputs": [],
   "source": [
    "spark = SparkSession.builder.master(\"local[1]\")\\\n",
    "          .appName(\"SparkByExamples.com\")\\\n",
    "          .getOrCreate()"
   ]
  },
  {
   "cell_type": "code",
   "execution_count": 7,
   "id": "cb7a1da2",
   "metadata": {},
   "outputs": [],
   "source": [
    "df_spark = spark.read.option(\"header\", True)\\\n",
    "    .format(\"csv\")\\\n",
    "    .load(os.path.join(DIR_DATA, FILENAME))"
   ]
  },
  {
   "cell_type": "markdown",
   "id": "e8a50240",
   "metadata": {},
   "source": [
    "---\n",
    "# Inspect DataFrame\n",
    "---\n",
    "\n",
    "References\n",
    "- https://sparkbyexamples.com/spark/show-top-n-rows-in-spark-pyspark/#:~:text=In%20Spark%2FPySpark%2C%20you%20can,(5%2C10%2C100%20..)\n"
   ]
  },
  {
   "cell_type": "markdown",
   "id": "9705d5f9",
   "metadata": {},
   "source": [
    "##### Schema"
   ]
  },
  {
   "cell_type": "code",
   "execution_count": 8,
   "id": "68803f84",
   "metadata": {},
   "outputs": [
    {
     "name": "stdout",
     "output_type": "stream",
     "text": [
      "root\n",
      " |-- ULTIMATE_BUSINESS_NAME_DB: string (nullable = true)\n",
      " |-- ULTIMATE_DUNS_NUMBER_DB: string (nullable = true)\n",
      " |-- DUNS_NUMBER_DB: string (nullable = true)\n",
      " |-- INSURED_NAME_UW: string (nullable = true)\n",
      " |-- BUSINESS_NAME_DB: string (nullable = true)\n",
      " |-- POLICY_EFFECTIVE_DATE: string (nullable = true)\n",
      " |-- POLICY_EXPIRATION_DATE: string (nullable = true)\n",
      " |-- INSURANCE_LINE_OF_BUSINESS: string (nullable = true)\n",
      " |-- DIVISIONDEPARTMENT: string (nullable = true)\n",
      " |-- COVERAGE_TRIGGER: string (nullable = true)\n",
      " |-- BUSINESS_TYPE: string (nullable = true)\n",
      " |-- AGGREGATE_PRODUCT__AIG: string (nullable = true)\n",
      "\n"
     ]
    }
   ],
   "source": [
    "df_spark.printSchema()"
   ]
  },
  {
   "cell_type": "markdown",
   "id": "56a5fe4d",
   "metadata": {},
   "source": [
    "##### Sample\n",
    "\n",
    "Sample returns a pyspark dataframe.  The other operations return lists."
   ]
  },
  {
   "cell_type": "code",
   "execution_count": 9,
   "id": "e135837a",
   "metadata": {},
   "outputs": [
    {
     "data": {
      "text/plain": [
       "DataFrame[ULTIMATE_BUSINESS_NAME_DB: string, ULTIMATE_DUNS_NUMBER_DB: string, DUNS_NUMBER_DB: string, INSURED_NAME_UW: string, BUSINESS_NAME_DB: string, POLICY_EFFECTIVE_DATE: string, POLICY_EXPIRATION_DATE: string, INSURANCE_LINE_OF_BUSINESS: string, DIVISIONDEPARTMENT: string, COVERAGE_TRIGGER: string, BUSINESS_TYPE: string, AGGREGATE_PRODUCT__AIG: string]"
      ]
     },
     "execution_count": 9,
     "metadata": {},
     "output_type": "execute_result"
    }
   ],
   "source": [
    "df_spark.sample(fraction=0.01)"
   ]
  },
  {
   "cell_type": "markdown",
   "id": "68186b27",
   "metadata": {},
   "source": [
    "##### Head"
   ]
  },
  {
   "cell_type": "code",
   "execution_count": 10,
   "id": "32402a07",
   "metadata": {},
   "outputs": [
    {
     "name": "stdout",
     "output_type": "stream",
     "text": [
      "Row(ULTIMATE_BUSINESS_NAME_DB='1-Stop Connections Pty Limited', ULTIMATE_DUNS_NUMBER_DB='750664455', DUNS_NUMBER_DB='750664455', INSURED_NAME_UW='1-STOP CONNECTIONS PTY LIMITED', BUSINESS_NAME_DB='1-STOP CONNECTIONS PTY LIMITED', POLICY_EFFECTIVE_DATE='6/13/2017', POLICY_EXPIRATION_DATE='10/1/2018', INSURANCE_LINE_OF_BUSINESS='Directors And Officers Liabilty', DIVISIONDEPARTMENT='23-Financial Lines', COVERAGE_TRIGGER='Claims-made', BUSINESS_TYPE='Risk Transfer - Standard', AGGREGATE_PRODUCT__AIG='Directors & Officers Liability') \n",
      "\n"
     ]
    }
   ],
   "source": [
    "df_head = df_spark.head(1)\n",
    "\n",
    "for row in df_head:\n",
    "    print(row, '\\n')"
   ]
  },
  {
   "cell_type": "markdown",
   "id": "db32a979",
   "metadata": {},
   "source": [
    "##### Take"
   ]
  },
  {
   "cell_type": "code",
   "execution_count": 14,
   "id": "a8389155",
   "metadata": {},
   "outputs": [],
   "source": [
    "df_take = df_spark.take(1)"
   ]
  },
  {
   "cell_type": "code",
   "execution_count": 23,
   "id": "7ee03239",
   "metadata": {},
   "outputs": [],
   "source": [
    "df_sample = df_spark.sample(fraction=0.1)"
   ]
  },
  {
   "cell_type": "code",
   "execution_count": null,
   "id": "601b2fb1",
   "metadata": {},
   "outputs": [],
   "source": []
  },
  {
   "cell_type": "code",
   "execution_count": null,
   "id": "95a6a11c",
   "metadata": {},
   "outputs": [],
   "source": []
  },
  {
   "cell_type": "code",
   "execution_count": null,
   "id": "3e144a65",
   "metadata": {},
   "outputs": [],
   "source": []
  },
  {
   "cell_type": "code",
   "execution_count": null,
   "id": "52f54f5f",
   "metadata": {},
   "outputs": [],
   "source": []
  },
  {
   "cell_type": "code",
   "execution_count": null,
   "id": "73ed16a3",
   "metadata": {},
   "outputs": [],
   "source": []
  },
  {
   "cell_type": "code",
   "execution_count": null,
   "id": "f8b4e470",
   "metadata": {},
   "outputs": [],
   "source": []
  },
  {
   "cell_type": "code",
   "execution_count": null,
   "id": "34310f40",
   "metadata": {},
   "outputs": [],
   "source": []
  },
  {
   "cell_type": "code",
   "execution_count": null,
   "id": "e8eaf432",
   "metadata": {},
   "outputs": [],
   "source": []
  },
  {
   "cell_type": "code",
   "execution_count": null,
   "id": "a09319a2",
   "metadata": {},
   "outputs": [],
   "source": []
  },
  {
   "cell_type": "code",
   "execution_count": null,
   "id": "4a3eeeaf",
   "metadata": {},
   "outputs": [],
   "source": []
  },
  {
   "cell_type": "code",
   "execution_count": null,
   "id": "9fc0000e",
   "metadata": {},
   "outputs": [],
   "source": []
  },
  {
   "cell_type": "code",
   "execution_count": null,
   "id": "8a58c533",
   "metadata": {},
   "outputs": [],
   "source": []
  },
  {
   "cell_type": "code",
   "execution_count": null,
   "id": "29c0f68d",
   "metadata": {},
   "outputs": [],
   "source": []
  }
 ],
 "metadata": {
  "kernelspec": {
   "display_name": "Python 3 (ipykernel)",
   "language": "python",
   "name": "python3"
  },
  "language_info": {
   "codemirror_mode": {
    "name": "ipython",
    "version": 3
   },
   "file_extension": ".py",
   "mimetype": "text/x-python",
   "name": "python",
   "nbconvert_exporter": "python",
   "pygments_lexer": "ipython3",
   "version": "3.9.12"
  }
 },
 "nbformat": 4,
 "nbformat_minor": 5
}
